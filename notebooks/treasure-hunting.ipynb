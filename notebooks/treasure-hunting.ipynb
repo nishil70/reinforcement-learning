{
 "cells": [
  {
   "cell_type": "markdown",
   "metadata": {},
   "source": [
    "# Treasure Hunt using Reinforcement Learning"
   ]
  },
  {
   "cell_type": "code",
   "execution_count": 1,
   "metadata": {},
   "outputs": [],
   "source": [
    "# Q-learning helper implementation\n",
    "import qlearning"
   ]
  },
  {
   "cell_type": "markdown",
   "metadata": {},
   "source": [
    "### Build the map"
   ]
  },
  {
   "cell_type": "code",
   "execution_count": 2,
   "metadata": {},
   "outputs": [],
   "source": [
    "DANGER = \"d\"\n",
    "AGENT = \"A\"\n",
    "COINS = \"c\"\n",
    "EMPTY = \"-\"\n",
    "TREE = \"t\"\n",
    "END = \"E\"\n",
    "\n",
    "\n",
    "map = [\n",
    "    [AGENT, DANGER, DANGER, TREE, EMPTY],\n",
    "    [COINS, EMPTY, DANGER, EMPTY, EMPTY],\n",
    "    [COINS, EMPTY, TREE, TREE, EMPTY],\n",
    "    [DANGER, COINS, COINS, TREE, EMPTY],\n",
    "    [COINS, EMPTY, COINS, COINS, EMPTY],\n",
    "]"
   ]
  },
  {
   "cell_type": "code",
   "execution_count": 3,
   "metadata": {},
   "outputs": [
    {
     "name": "stdout",
     "output_type": "stream",
     "text": [
      "A d d t -\n",
      "c - d - -\n",
      "c - t t -\n",
      "d c c t -\n",
      "c - c c -\n"
     ]
    }
   ],
   "source": [
    "for row in map:\n",
    "    print(' '.join(row))"
   ]
  },
  {
   "cell_type": "markdown",
   "metadata": {},
   "source": [
    "### All possible actions\n",
    "- The agent can move up, down, left and right"
   ]
  },
  {
   "cell_type": "code",
   "execution_count": 4,
   "metadata": {},
   "outputs": [],
   "source": [
    "UP = 0\n",
    "DOWN = 1\n",
    "LEFT = 2\n",
    "RIGHT = 3\n",
    "\n",
    "ACTIONS = [UP, DOWN, LEFT, RIGHT]"
   ]
  },
  {
   "cell_type": "markdown",
   "metadata": {},
   "source": [
    "### Initial state\n",
    "- Starting position of the agent"
   ]
  },
  {
   "cell_type": "code",
   "execution_count": 5,
   "metadata": {},
   "outputs": [],
   "source": [
    "start_state = qlearning.State(map=map, agent_pos=[0, 0])"
   ]
  },
  {
   "cell_type": "markdown",
   "metadata": {},
   "source": [
    "### Learning to drive using Q-Learning\n",
    "- We will decay the alpha rate with each episode\n",
    "- When the environment is unknown agent will take random actions else it will choose the best action"
   ]
  },
  {
   "cell_type": "code",
   "execution_count": 6,
   "metadata": {},
   "outputs": [],
   "source": [
    "import numpy as np\n",
    "import random\n",
    "\n",
    "random.seed(42)\n",
    "\n",
    "# Hyper parameters\n",
    "N_EPISODES = 50\n",
    "\n",
    "MAX_EPISODE_STEPS = 100\n",
    "\n",
    "MIN_ALPHA = 0.02\n",
    "\n",
    "alphas = np.linspace(1.0, MIN_ALPHA, N_EPISODES) # learning rate\n",
    "gamma = 1.0\n",
    "eps = 0.2\n",
    "\n",
    "q_table = dict()\n",
    "# Gives the Q value for a state-action pair or for all actions, given a state\t\n",
    "def q(state, action=None):\n",
    "    \n",
    "    if state not in q_table:\n",
    "        q_table[state] = np.zeros(len(ACTIONS))\n",
    "        \n",
    "    if action is None:\n",
    "        return q_table[state]\n",
    "    \n",
    "    return q_table[state][action]\n",
    "\n",
    "# We will choose an action randomly\n",
    "def choose_action(state):\n",
    "    if random.uniform(0, 1) < eps:\n",
    "        return random.choice(ACTIONS) \n",
    "    else:\n",
    "        return np.argmax(q(state))"
   ]
  },
  {
   "cell_type": "code",
   "execution_count": 7,
   "metadata": {},
   "outputs": [
    {
     "name": "stdout",
     "output_type": "stream",
     "text": [
      "YOU ARE IN DANGER!!\n",
      "Episode 1: Total coins = -53\n",
      "YOU ARE IN DANGER!!\n",
      "Episode 2: Total coins = -50\n",
      "YOU ARE IN DANGER!!\n",
      "Episode 3: Total coins = -3\n",
      "YOU ARE IN DANGER!!\n",
      "Episode 4: Total coins = -3\n",
      "YOU ARE IN DANGER!!\n",
      "Episode 5: Total coins = -5\n",
      "YOU ARE IN DANGER!!\n",
      "Episode 6: Total coins = -10\n",
      "YOU ARE IN DANGER!!\n",
      "Episode 7: Total coins = 39\n",
      "YOU ARE IN DANGER!!\n",
      "Episode 8: Total coins = -3\n",
      "YOU ARE IN DANGER!!\n",
      "Episode 9: Total coins = 0\n",
      "YOU ARE IN DANGER!!\n",
      "Episode 10: Total coins = 0\n",
      "YOU ARE IN DANGER!!\n",
      "Episode 11: Total coins = 0\n",
      "YOU ARE IN DANGER!!\n",
      "Episode 12: Total coins = -4\n",
      "YOU ARE IN DANGER!!\n",
      "Episode 13: Total coins = 42\n",
      "YOU ARE IN DANGER!!\n",
      "Episode 14: Total coins = -2\n",
      "YOU ARE IN DANGER!!\n",
      "Episode 15: Total coins = 88\n",
      "YOU ARE IN DANGER!!\n",
      "Episode 16: Total coins = -50\n",
      "YOU ARE IN DANGER!!\n",
      "Episode 17: Total coins = -100\n",
      "YOU ARE IN DANGER!!\n",
      "Episode 18: Total coins = -9\n",
      "YOU ARE IN DANGER!!\n",
      "Episode 19: Total coins = -1\n",
      "YOU ARE IN DANGER!!\n",
      "Episode 20: Total coins = -1\n",
      "YOU ARE IN DANGER!!\n",
      "Episode 21: Total coins = 0\n",
      "YOU ARE IN DANGER!!\n",
      "Episode 22: Total coins = -51\n",
      "YOU ARE IN DANGER!!\n",
      "Episode 23: Total coins = 140\n",
      "YOU ARE IN DANGER!!\n",
      "Episode 24: Total coins = 130\n",
      "YOU ARE IN DANGER!!\n",
      "Episode 25: Total coins = 0\n",
      "YOU ARE IN DANGER!!\n",
      "Episode 26: Total coins = 149\n",
      "YOU ARE IN DANGER!!\n",
      "Episode 27: Total coins = 131\n",
      "YOU ARE IN DANGER!!\n",
      "Episode 28: Total coins = 178\n",
      "YOU ARE IN DANGER!!\n",
      "Episode 29: Total coins = 200\n",
      "YOU ARE IN DANGER!!\n",
      "Episode 30: Total coins = 9\n",
      "YOU ARE IN DANGER!!\n",
      "Episode 31: Total coins = 200\n",
      "YOU ARE IN DANGER!!\n",
      "Episode 32: Total coins = 187\n",
      "YOU ARE IN DANGER!!\n",
      "Episode 33: Total coins = 190\n",
      "YOU ARE IN DANGER!!\n",
      "Episode 34: Total coins = -50\n",
      "YOU ARE IN DANGER!!\n",
      "Episode 35: Total coins = 100\n",
      "YOU ARE IN DANGER!!\n",
      "Episode 36: Total coins = 139\n",
      "YOU ARE IN DANGER!!\n",
      "Episode 37: Total coins = 99\n",
      "YOU ARE IN DANGER!!\n",
      "Episode 38: Total coins = 248\n",
      "YOU ARE IN DANGER!!\n",
      "Episode 39: Total coins = 0\n",
      "YOU ARE IN DANGER!!\n",
      "Episode 40: Total coins = 50\n",
      "YOU ARE IN DANGER!!\n",
      "Episode 41: Total coins = 59\n",
      "YOU ARE IN DANGER!!\n",
      "Episode 42: Total coins = -60\n",
      "YOU ARE IN DANGER!!\n",
      "Episode 43: Total coins = 140\n",
      "YOU ARE IN DANGER!!\n",
      "Episode 44: Total coins = 89\n",
      "YOU ARE IN DANGER!!\n",
      "Episode 45: Total coins = 190\n",
      "YOU ARE IN DANGER!!\n",
      "Episode 46: Total coins = 96\n",
      "YOU ARE IN DANGER!!\n",
      "Episode 47: Total coins = 247\n",
      "YOU ARE IN DANGER!!\n",
      "Episode 48: Total coins = 235\n",
      "YOU ARE IN DANGER!!\n",
      "Episode 49: Total coins = 50\n",
      "YOU ARE IN DANGER!!\n",
      "Episode 50: Total coins = 238\n"
     ]
    }
   ],
   "source": [
    "for e in range(N_EPISODES):\n",
    "    \n",
    "    state = start_state\n",
    "    total_reward = 0\n",
    "    alpha = alphas[e]\n",
    "    \n",
    "    for _ in range(MAX_EPISODE_STEPS):\n",
    "        action = choose_action(state)\n",
    "        next_state, reward, done = qlearning.move(state, action)\n",
    "        total_reward += reward\n",
    "        \n",
    "        q(state)[action] = q(state, action) + \\\n",
    "                alpha * (reward + gamma *  np.max(q(next_state)) - q(state, action))\n",
    "        state = next_state\n",
    "        if done:\n",
    "            break\n",
    "    print(f\"Episode {e + 1}: Total coins = {total_reward}\")"
   ]
  },
  {
   "cell_type": "markdown",
   "metadata": {},
   "source": [
    "### Extract the policy  agent has learned\n",
    "- For the map where start location is (0,0) down is the best place to move as there are coins, so down has highest rewards\n",
    "- Then we will move down and see what the new state looks like\n",
    "- Again down has maximum rewards (spoiler - it must have coins!)\n",
    "- It seems the agent knows its way around to get most coins"
   ]
  },
  {
   "cell_type": "code",
   "execution_count": 8,
   "metadata": {},
   "outputs": [
    {
     "name": "stdout",
     "output_type": "stream",
     "text": [
      "up=87.31564653876889, down=202.46457177309412, left=75.64152644119244, right=-68.0\n"
     ]
    }
   ],
   "source": [
    "r = q(start_state)\n",
    "print(f\"up={r[UP]}, down={r[DOWN]}, left={r[LEFT]}, right={r[RIGHT]}\")"
   ]
  },
  {
   "cell_type": "code",
   "execution_count": 9,
   "metadata": {},
   "outputs": [],
   "source": [
    "new_state, reward, done = qlearning.move(start_state, DOWN)"
   ]
  },
  {
   "cell_type": "code",
   "execution_count": 10,
   "metadata": {},
   "outputs": [
    {
     "name": "stdout",
     "output_type": "stream",
     "text": [
      "up=49.978129487867086, down=169.97560127739277, left=46.362111967077205, right=0.0\n"
     ]
    }
   ],
   "source": [
    "r = q(new_state)\n",
    "print(f\"up={r[UP]}, down={r[DOWN]}, left={r[LEFT]}, right={r[RIGHT]}\")"
   ]
  },
  {
   "cell_type": "markdown",
   "metadata": {},
   "source": [
    "### Conclusion\n",
    "- Initially the agent does not know map elements\n",
    "- Yet it manages to learn that \"DANGER\" is bad and \"COINS\" are good\n",
    "- More we train, the agent will make optimal decisions"
   ]
  }
 ],
 "metadata": {
  "kernelspec": {
   "display_name": "Python 3",
   "language": "python",
   "name": "python3"
  },
  "language_info": {
   "codemirror_mode": {
    "name": "ipython",
    "version": 3
   },
   "file_extension": ".py",
   "mimetype": "text/x-python",
   "name": "python",
   "nbconvert_exporter": "python",
   "pygments_lexer": "ipython3",
   "version": "3.6.5"
  }
 },
 "nbformat": 4,
 "nbformat_minor": 2
}
